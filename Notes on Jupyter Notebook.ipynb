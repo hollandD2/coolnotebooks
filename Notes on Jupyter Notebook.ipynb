{
 "cells": [
  {
   "cell_type": "markdown",
   "id": "b7a58ce8",
   "metadata": {},
   "source": [
    "<h1 style=\"font-size:3rem;color:green;\">Jupyter Notebook Tutorial</h1>"
   ]
  },
  {
   "cell_type": "markdown",
   "id": "d80e8d4f",
   "metadata": {},
   "source": [
    "<img src=\"https://picsum.photos/id/0/200/200\">"
   ]
  },
  {
   "cell_type": "markdown",
   "id": "fb16b7d4",
   "metadata": {},
   "source": [
    "# Python for Beginners"
   ]
  },
  {
   "cell_type": "markdown",
   "id": "e2eb8a2b",
   "metadata": {},
   "source": [
    "## Basic Output"
   ]
  },
  {
   "cell_type": "markdown",
   "id": "33230fef",
   "metadata": {},
   "source": [
    "Take note here:"
   ]
  },
  {
   "cell_type": "code",
   "execution_count": 1,
   "id": "9d623ca1",
   "metadata": {},
   "outputs": [
    {
     "name": "stdout",
     "output_type": "stream",
     "text": [
      "Hello World!\n"
     ]
    }
   ],
   "source": [
    "print('Hello World!')"
   ]
  },
  {
   "cell_type": "markdown",
   "id": "7c5d3bf8",
   "metadata": {},
   "source": [
    "## Insert a variable into a string"
   ]
  },
  {
   "cell_type": "markdown",
   "id": "451729ab",
   "metadata": {},
   "source": [
    "### Creating a variable"
   ]
  },
  {
   "cell_type": "markdown",
   "id": "c7e3c2b7",
   "metadata": {},
   "source": [
    "Creating a variable allows you to customize your code."
   ]
  },
  {
   "cell_type": "code",
   "execution_count": 3,
   "id": "7eb7b61e",
   "metadata": {},
   "outputs": [
    {
     "name": "stdout",
     "output_type": "stream",
     "text": [
      "name\n"
     ]
    }
   ],
   "source": [
    "name = 'john'\n",
    "print(name)"
   ]
  },
  {
   "cell_type": "code",
   "execution_count": 4,
   "id": "711268b4",
   "metadata": {},
   "outputs": [
    {
     "name": "stdout",
     "output_type": "stream",
     "text": [
      "What is your name?Dottie\n",
      "Hello, Dottie!\n"
     ]
    }
   ],
   "source": [
    "person = input(\"What is your name?\")\n",
    "message = \"Hello, {}!\".format(person)\n",
    "print(message)"
   ]
  },
  {
   "cell_type": "markdown",
   "id": "463dd759",
   "metadata": {},
   "source": [
    "## Multiline Strings and String Length"
   ]
  },
  {
   "cell_type": "code",
   "execution_count": 5,
   "id": "9c75fb52",
   "metadata": {},
   "outputs": [],
   "source": [
    "story = \"\"\"It was a\n",
    "bright sunny day. \n",
    "Everyone decided\n",
    "to go to\n",
    "the\n",
    "Beach!!!\"\"\""
   ]
  },
  {
   "cell_type": "markdown",
   "id": "99e6f009",
   "metadata": {},
   "source": [
    "print(story)"
   ]
  },
  {
   "cell_type": "code",
   "execution_count": 7,
   "id": "6a06c711",
   "metadata": {},
   "outputs": [
    {
     "name": "stdout",
     "output_type": "stream",
     "text": [
      "66\n"
     ]
    }
   ],
   "source": [
    "print(len(story))"
   ]
  },
  {
   "cell_type": "markdown",
   "id": "6c7ed20f",
   "metadata": {},
   "source": [
    "## Math Operations"
   ]
  },
  {
   "cell_type": "code",
   "execution_count": 8,
   "id": "635c86ea",
   "metadata": {},
   "outputs": [
    {
     "name": "stdout",
     "output_type": "stream",
     "text": [
      "5.25\n",
      "1\n"
     ]
    }
   ],
   "source": [
    "x = 7\n",
    "y = 4\n",
    "z = (x * 3)/y\n",
    "m = (x * 3) % y #Modulo retrns the remainder\n",
    "print(z)\n",
    "print(m)"
   ]
  },
  {
   "cell_type": "markdown",
   "id": "58036553",
   "metadata": {},
   "source": [
    "## List (arrays)"
   ]
  },
  {
   "cell_type": "code",
   "execution_count": 13,
   "id": "db4edb37",
   "metadata": {},
   "outputs": [],
   "source": [
    "friends = ['Monica', 'Phoebe', 'Rachel', 'Chandler', 'Joey', 'Ross']"
   ]
  },
  {
   "cell_type": "code",
   "execution_count": 14,
   "id": "ff8d2520",
   "metadata": {},
   "outputs": [
    {
     "name": "stdout",
     "output_type": "stream",
     "text": [
      "Joey\n"
     ]
    }
   ],
   "source": [
    "print(friends[4])"
   ]
  },
  {
   "cell_type": "code",
   "execution_count": 16,
   "id": "2affafa5",
   "metadata": {},
   "outputs": [],
   "source": [
    "friends.append('Emma')"
   ]
  },
  {
   "cell_type": "code",
   "execution_count": 17,
   "id": "3b881b4b",
   "metadata": {},
   "outputs": [
    {
     "data": {
      "text/plain": [
       "['Monica', 'Phoebe', 'Rachel', 'Chandler', 'Joey', 'Ross', 'Emma']"
      ]
     },
     "execution_count": 17,
     "metadata": {},
     "output_type": "execute_result"
    }
   ],
   "source": [
    "friends"
   ]
  },
  {
   "cell_type": "code",
   "execution_count": null,
   "id": "a0e85b15",
   "metadata": {},
   "outputs": [],
   "source": []
  }
 ],
 "metadata": {
  "kernelspec": {
   "display_name": "Python 3 (ipykernel)",
   "language": "python",
   "name": "python3"
  },
  "language_info": {
   "codemirror_mode": {
    "name": "ipython",
    "version": 3
   },
   "file_extension": ".py",
   "mimetype": "text/x-python",
   "name": "python",
   "nbconvert_exporter": "python",
   "pygments_lexer": "ipython3",
   "version": "3.9.7"
  }
 },
 "nbformat": 4,
 "nbformat_minor": 5
}
